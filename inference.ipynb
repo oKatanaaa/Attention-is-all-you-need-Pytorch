{
 "cells": [
  {
   "cell_type": "code",
   "execution_count": 1,
   "metadata": {},
   "outputs": [],
   "source": [
    "from model import Transformer\n",
    "import pickle\n",
    "import torch\n",
    "from decoding import GreedyDecoder\n",
    "import spacy"
   ]
  },
  {
   "cell_type": "code",
   "execution_count": 2,
   "metadata": {},
   "outputs": [],
   "source": [
    "def read_vocab(path):\n",
    "    with open(path, 'rb') as f:\n",
    "        return pickle.load(f)\n",
    "\n",
    "en_vocab = read_vocab('weights/Yandex/en_vocab.pkl')\n",
    "ru_vocab = read_vocab('weights/Yandex/ru_vocab.pkl')"
   ]
  },
  {
   "cell_type": "code",
   "execution_count": 3,
   "metadata": {},
   "outputs": [],
   "source": [
    "SEQ_LEN = 64\n",
    "SRC_VOCAB_SIZE = len(ru_vocab)\n",
    "TRG_VOCAB_SIZE = len(en_vocab)\n",
    "DIM = 512\n",
    "N_HEADS = 8\n",
    "PW_NET_DIM = 2048\n",
    "N_EN_BLOCKS = 6\n",
    "N_DE_BLOCKS = 6\n",
    "DROPOUT_P = 0.1\n",
    "\n",
    "model = Transformer(\n",
    "    seq_len=SEQ_LEN,\n",
    "    src_vocab_size=SRC_VOCAB_SIZE,\n",
    "    trg_vocab_size=TRG_VOCAB_SIZE,\n",
    "    dim=DIM,\n",
    "    n_heads=N_HEADS,\n",
    "    pw_net_dim=PW_NET_DIM,\n",
    "    n_de_blocks=N_DE_BLOCKS,\n",
    "    n_en_blocks=N_EN_BLOCKS,\n",
    "    dropout_p=DROPOUT_P\n",
    ")"
   ]
  },
  {
   "cell_type": "code",
   "execution_count": 4,
   "metadata": {},
   "outputs": [],
   "source": [
    "_ = model.cuda()"
   ]
  },
  {
   "cell_type": "code",
   "execution_count": 5,
   "metadata": {},
   "outputs": [
    {
     "data": {
      "text/plain": [
       "<All keys matched successfully>"
      ]
     },
     "execution_count": 5,
     "metadata": {},
     "output_type": "execute_result"
    }
   ],
   "source": [
    "model.load_state_dict(torch.load('weights/Yandex/yandex_weights.pth', map_location='cuda'))"
   ]
  },
  {
   "cell_type": "code",
   "execution_count": 6,
   "metadata": {},
   "outputs": [],
   "source": [
    "ru_tokenizer = spacy.load('ru_core_news_sm')\n",
    "# Disabling those pipes increases processing speed by an order of magnitude\n",
    "ru_tokenizer.disable_pipes(['tok2vec', 'morphologizer', 'parser', 'attribute_ruler', 'lemmatizer', 'ner'])\n",
    "decoder = GreedyDecoder(\n",
    "    model=model,\n",
    "    tokenizer=lambda sent: [token.text for token in ru_tokenizer(sent)],\n",
    "    src_vocab=ru_vocab,\n",
    "    trg_vocab=en_vocab,\n",
    "    sos_token_id=2,\n",
    "    eos_token_id=3,\n",
    "    pad_token_id=1,\n",
    "    max_seq_length=SEQ_LEN\n",
    ")"
   ]
  },
  {
   "cell_type": "code",
   "execution_count": 11,
   "metadata": {},
   "outputs": [
    {
     "data": {
      "text/plain": [
       "'this is a complex and complex set of words that are hard to translate .'"
      ]
     },
     "execution_count": 11,
     "metadata": {},
     "output_type": "execute_result"
    }
   ],
   "source": [
    "decoder.decode('Русский язык невероятно сложен.')"
   ]
  },
  {
   "cell_type": "code",
   "execution_count": null,
   "metadata": {},
   "outputs": [],
   "source": []
  }
 ],
 "metadata": {
  "kernelspec": {
   "display_name": "Python 3.7.13 ('base')",
   "language": "python",
   "name": "python3"
  },
  "language_info": {
   "codemirror_mode": {
    "name": "ipython",
    "version": 3
   },
   "file_extension": ".py",
   "mimetype": "text/x-python",
   "name": "python",
   "nbconvert_exporter": "python",
   "pygments_lexer": "ipython3",
   "version": "3.7.13"
  },
  "orig_nbformat": 4,
  "vscode": {
   "interpreter": {
    "hash": "d4d1e4263499bec80672ea0156c357c1ee493ec2b1c70f0acce89fc37c4a6abe"
   }
  }
 },
 "nbformat": 4,
 "nbformat_minor": 2
}
